{
  "cells": [
    {
      "cell_type": "markdown",
      "metadata": {
        "id": "view-in-github",
        "colab_type": "text"
      },
      "source": [
        "<a href=\"https://colab.research.google.com/github/Asha629399/DL_ASSIGNMENT_1_CS22M021/blob/main/Copy_of_Untitled9.ipynb\" target=\"_parent\"><img src=\"https://colab.research.google.com/assets/colab-badge.svg\" alt=\"Open In Colab\"/></a>"
      ]
    },
    {
      "cell_type": "code",
      "execution_count": null,
      "metadata": {
        "id": "xQ2Jct8t-hMv"
      },
      "outputs": [],
      "source": [
        "#To install wandb package ,which is helpful in generating plots and report.\n",
        "!pip install wandb"
      ]
    },
    {
      "cell_type": "code",
      "source": [
        "!touch requirements.txt"
      ],
      "metadata": {
        "id": "jeSS92Vel0NK"
      },
      "execution_count": null,
      "outputs": []
    },
    {
      "cell_type": "markdown",
      "source": [
        "wandb"
      ],
      "metadata": {
        "id": "7ttb0iU1FYz0"
      }
    },
    {
      "cell_type": "markdown",
      "source": [
        "wandb\n"
      ],
      "metadata": {
        "id": "uYQ0o6Nevn9K"
      }
    },
    {
      "cell_type": "markdown",
      "source": [],
      "metadata": {
        "id": "wKWdFzb9vnBA"
      }
    },
    {
      "cell_type": "code",
      "source": [
        "!cat requirements.txt"
      ],
      "metadata": {
        "id": "nvvVYYz5mo8H"
      },
      "execution_count": null,
      "outputs": []
    },
    {
      "cell_type": "code",
      "source": [
        "!pip install -r requirements.txt"
      ],
      "metadata": {
        "id": "9ly2O6XPn395"
      },
      "execution_count": null,
      "outputs": []
    },
    {
      "cell_type": "markdown",
      "source": [
        "keras==2.11.0\n",
        "tensorflow==2.11.0\n",
        "numpy==1.18.*\n"
      ],
      "metadata": {
        "id": "SXECvguZmvFO"
      }
    },
    {
      "cell_type": "code",
      "execution_count": null,
      "metadata": {
        "id": "giGcTkoQ-5cP"
      },
      "outputs": [],
      "source": [
        "# Packages that were required\n",
        "#!pip install tensorflow==2.11.0\n",
        "\n",
        "#!pip install keras==2.11.0\n",
        "#!pip install numpy==1.18.*\n",
        "#!pip install --upgrade tensorflow keras\n",
        "import tensorflow as tf\n",
        "\n",
        "import numpy as np\n",
        "import matplotlib.pyplot as plt\n",
        "import pandas as pd\n",
        "\n",
        "from tensorflow.keras.datasets import fashion_mnist\n",
        "from numpy import random\n",
        "from random import seed\n",
        "import math\n",
        "\n",
        "from tensorflow.keras.datasets import mnist\n",
        "import wandb\n",
        "\n",
        "np.seterr(divide='ignore', invalid='ignore')"
      ]
    },
    {
      "cell_type": "code",
      "execution_count": null,
      "metadata": {
        "id": "nRtXuqzG_EXb"
      },
      "outputs": [],
      "source": [
        " #The tand MNIST dataset , and splitting the dataset into test(10000 pts) and train(60000 pts)\n",
        "(x_train,y_train),(x_test,y_test) = fashion_mnist.load_data()"
      ]
    },
    {
      "cell_type": "code",
      "execution_count": null,
      "metadata": {
        "id": "OsMQfIYD_Inq"
      },
      "outputs": [],
      "source": [
        "# Splitting the train data set into train(54000) and cross_validation(6000) dataset\n",
        "\n",
        "x_val = x_train[54000:]\n",
        "y_val = y_train[54000:]\n",
        "x_train = x_train[:54000]\n",
        "y_train = y_train[:54000]"
      ]
    },
    {
      "cell_type": "code",
      "execution_count": null,
      "metadata": {
        "colab": {
          "base_uri": "https://localhost:8080/"
        },
        "id": "SCCRGMon_VfK",
        "outputId": "c31c959b-8d72-4701-dbda-89d0c076472d"
      },
      "outputs": [
        {
          "output_type": "stream",
          "name": "stdout",
          "text": [
            "train images shape: (54000, 28, 28)\n",
            "train labels shape: (54000,)\n",
            "validation images shape: (6000, 28, 28)\n",
            "validation images shape: (6000,)\n",
            "test images shape: (10000, 28, 28)\n",
            "test images shape: (10000,)\n",
            "[9 0 0 ... 5 3 9]\n"
          ]
        }
      ],
      "source": [
        "print(\"train images shape:\", x_train.shape)\n",
        "print(\"train labels shape:\", y_train.shape)\n",
        "print(\"validation images shape:\", x_val.shape)\n",
        "print(\"validation images shape:\", y_val.shape)\n",
        "print(\"test images shape:\", x_test.shape)\n",
        "print(\"test images shape:\", y_test.shape)\n",
        "print(y_train)"
      ]
    },
    {
      "cell_type": "code",
      "execution_count": null,
      "metadata": {
        "colab": {
          "base_uri": "https://localhost:8080/",
          "height": 238
        },
        "id": "Dqj6P4It_aZD",
        "outputId": "9ddff9be-9d62-41cb-ac14-212fd6136668"
      },
      "outputs": [
        {
          "output_type": "display_data",
          "data": {
            "text/plain": [
              "<Figure size 1080x288 with 20 Axes>"
            ],
            "image/png": "[encoded data removed]"
          },
          "metadata": {}
        }
      ],
      "source": [
        "# Define the number of rows and columns in the grid\n",
        "n_rows = 2\n",
        "n_cols = 10\n",
        "\n",
        "class_names = ['T-shirt/top', 'Trouser', 'Pullover', 'Dress', 'Coat',\n",
        "               'Sandal', 'Shirt', 'Sneaker', 'Bag', 'Ankle boot']\n",
        "# Create a figure with the appropriate size\n",
        "fig, axes = plt.subplots(n_rows, n_cols, figsize=(15, 4))\n",
        "\n",
        "# Loop over the axes and plot an image for each class\n",
        "for i, ax in enumerate(axes.flat):\n",
        "    class_images = x_train[y_train == i % 10]\n",
        "    img = class_images[i // 10]\n",
        "    ax.imshow(img, cmap='Greens', interpolation='nearest')\n",
        "    ax.set_title(class_names[i % 10], fontsize=12, fontweight='bold')\n",
        "    ax.axis('off')\n",
        "\n",
        "# Add some spacing between the subplots\n",
        "fig.subplots_adjust(wspace=0.1, hspace=0.1)\n",
        "\n",
        "# Set the background color of the figure\n",
        "fig.patch.set_facecolor('#F2F2F2')\n",
        "\n",
        "# Display the figure\n",
        "plt.show()"
      ]
    },
    {
      "cell_type": "code",
      "execution_count": null,
      "metadata": {
        "id": "ZPg17rd39rvj"
      },
      "outputs": [],
      "source": [
        "def log_images(x_train,y_train):\n",
        "  set_images = []\n",
        "  count = 0\n",
        "  for image,label in zip(x_train,y_train):\n",
        "    if label < 10:\n",
        "      set_images.append(wandb.Image(image,caption=class_names[label]))\n",
        "      count+=1\n",
        "    else:\n",
        "      break\n",
        "  wandb.log({\"Images\":set_images})\n",
        "\n"
      ]
    },
    {
      "cell_type": "code",
      "source": [
        "#import os\n",
        "#import wandb\n",
        "#wandb.login()\n",
        "\n",
        "wandb.init(project=\"DL_Assignment1\")"
      ],
      "metadata": {
        "id": "hwKVwxdFIfLo"
      },
      "execution_count": null,
      "outputs": []
    },
    {
      "cell_type": "code",
      "execution_count": null,
      "metadata": {
        "id": "pcmKcJ0TWG-0"
      },
      "outputs": [],
      "source": [
        "log_images(x_train, y_train)"
      ]
    },
    {
      "cell_type": "code",
      "execution_count": null,
      "metadata": {
        "id": "fi9rEmElWJ-5"
      },
      "outputs": [],
      "source": [
        "# turn the data into an appropriate matrix form\n",
        "x_train = np.reshape(x_train, (54000, 784, 1))\n",
        "y_train = np.reshape(y_train, (54000, 1))\n"
      ]
    },
    {
      "cell_type": "code",
      "execution_count": null,
      "metadata": {
        "id": "1Xs6x3IGDmoO"
      },
      "outputs": [],
      "source": [
        "y_train = np.reshape(y_train, (54000, 1))"
      ]
    },
    {
      "cell_type": "code",
      "execution_count": null,
      "metadata": {
        "id": "c0lijo-YWONX"
      },
      "outputs": [],
      "source": [
        "x_test = np.reshape(x_test, (10000, 784, 1))\n",
        "y_test = np.reshape(y_test, (10000, 1))"
      ]
    },
    {
      "cell_type": "code",
      "execution_count": null,
      "metadata": {
        "id": "0qCFiK_yWPg8"
      },
      "outputs": [],
      "source": [
        "x_val = np.reshape(x_val, (6000, 784, 1))\n",
        "y_val = np.reshape(y_val, (6000, 1))"
      ]
    },
    {
      "cell_type": "code",
      "execution_count": null,
      "metadata": {
        "id": "JIz2c8PPWTf4"
      },
      "outputs": [],
      "source": [
        "# One-hot encoding\n",
        "targs = np.zeros((54000, 10, 1))\n",
        "for i in range(54000):\n",
        "    targs[i][y_train[i][0]-1][0] = 1 # preparing the target matrix "
      ]
    },
    {
      "cell_type": "code",
      "execution_count": null,
      "metadata": {
        "id": "nmYjoFvGWX31"
      },
      "outputs": [],
      "source": [
        "targs_test = np.zeros((10000, 10, 1))\n",
        "for i in range(10000):\n",
        "    targs_test[i][y_test[i][0]-1][0] = 1 # preparing the target matrix "
      ]
    },
    {
      "cell_type": "code",
      "execution_count": null,
      "metadata": {
        "id": "WV2E0FKMWdRu"
      },
      "outputs": [],
      "source": [
        "targs_val = np.zeros((6000, 10, 1))\n",
        "for i in range(6000):\n",
        "    targs_val[i][y_val[i][0]-1][0] = 1 # preparing the target matrix "
      ]
    },
    {
      "cell_type": "code",
      "execution_count": null,
      "metadata": {
        "id": "fwE7EuQ_WeMX"
      },
      "outputs": [],
      "source": [
        "# normalize data\n",
        "x_train = x_train / 255\n",
        "x_test = x_test / 255\n",
        "x_val = x_val / 255"
      ]
    },
    {
      "cell_type": "code",
      "execution_count": null,
      "metadata": {
        "id": "Qj644Ls-Sb3A"
      },
      "outputs": [],
      "source": [
        "def initialize_network(nInputs, nHidden, nOutputs, nLayers, config):\n",
        "    \"\"\"\n",
        "    Initializes a neural network with given number of inputs, hidden layers, and outputs.\n",
        "\n",
        "    :param nInputs: Number of input neurons.\n",
        "    :param nHidden: Number of neurons in each hidden layer.\n",
        "    :param nOutputs: Number of output neurons.\n",
        "    :param nLayers: Number of hidden layers.\n",
        "    :param config: Configuration object with hyperparameters.\n",
        "    :return: A list of dictionaries containing the weights and biases for each layer of the network.\n",
        "    \"\"\"\n",
        "    network = []\n",
        "\n",
        "    # Initialize weights and biases for the first hidden layer\n",
        "    if config.initialization == \"random\":\n",
        "        weights = 0.01 * np.random.randn(nHidden, nInputs)\n",
        "    else:\n",
        "        weights = 0.01 * np.random.randn(nHidden, nInputs)\n",
        "        if config.activation == \"relu\":\n",
        "            weights *= np.sqrt(2 / nInputs)\n",
        "        else:\n",
        "            weights *= np.sqrt(1 / nInputs)\n",
        "    bias = np.zeros([nHidden, 1])\n",
        "    network.append({'weights': weights, 'bias': bias})\n",
        "\n",
        "    # Initialize weights and biases for remaining hidden layers\n",
        "    for i in range(nLayers - 1):\n",
        "        if config.initialization == \"random\":\n",
        "            weights = 0.01 * np.random.randn(nHidden, nHidden)\n",
        "        else:\n",
        "            weights = 0.01 * np.random.randn(nHidden, nHidden)\n",
        "            if config.activation == \"relu\":\n",
        "                weights *= np.sqrt(2 / nHidden)\n",
        "            else:\n",
        "                weights *= np.sqrt(1 / nHidden)\n",
        "        bias = np.zeros([nHidden, 1])\n",
        "        network.append({'weights': weights, 'bias': bias})\n",
        "\n",
        "    # Initialize weights and biases for the output layer\n",
        "    if config.initialization == \"random\":\n",
        "        weights = 0.01 * np.random.randn(nOutputs, nHidden)\n",
        "    else:\n",
        "        weights = 0.01 * np.random.randn(nOutputs, nHidden)\n",
        "        if config.activation == \"relu\":\n",
        "            weights *= np.sqrt(2 / nHidden)\n",
        "        else:\n",
        "            weights *= np.sqrt(1 / nHidden)\n",
        "    bias = np.zeros([nOutputs, 1])\n",
        "    network.append({'weights': weights, 'bias': bias})\n",
        "\n",
        "    return network"
      ]
    },
    {
      "cell_type": "code",
      "execution_count": null,
      "metadata": {
        "id": "-IATbeuA8tln"
      },
      "outputs": [],
      "source": [
        "### Activation Functions starts\n",
        "\n",
        "def sigmoid(Z):\n",
        "    B = (1 + np.exp(-Z))\n",
        "    A = 1/B\n",
        "    return A\n",
        "\n",
        "def sigmoid_gradient(dA, prev_Z):\n",
        "    s = sigmoid(prev_Z)\n",
        "    C =  s * (1 - s)\n",
        "    dZ = dA*C\n",
        "    return dZ\n",
        "\n",
        "def relu(Z):\n",
        "    A = np.maximum(0, Z)\n",
        "    return A\n",
        "    \n",
        "def relu_gradient(dA, prev_Z):\n",
        "    s = np.maximum(0, prev_Z)\n",
        "    D = (s>0) * 1 \n",
        "    dZ = D*dA\n",
        "    return dZ \n",
        "\n",
        "def tanh(Z):\n",
        "    A = np.tanh(Z)\n",
        "    return A\n",
        "\n",
        "def tanh_gradient(dA, prev_Z):\n",
        "    s = np.tanh(prev_Z)\n",
        "    dZ = (1 - s**2) * dA\n",
        "    return dZ\n",
        "\n",
        "def linear(Z):\n",
        "    return Z\n",
        " #softmax function for probability distribution\n",
        "def softmax_function(Z):\n",
        "    expZ = np.exp(Z - np.max(Z))\n",
        "    return expZ / expZ.sum(axis=0, keepdims=True)\n",
        "\n",
        "def squared_error_loss(Y, A):\n",
        "    m = Y.shape[1]\n",
        "    loss = np.square(Y - A)\n",
        "    cost = 1 / (2 * m) * np.sum(loss)\n",
        "    return np.squeeze(cost)\n",
        "### Activation Functions ends"
      ]
    },
    {
      "cell_type": "code",
      "execution_count": null,
      "metadata": {
        "id": "h468pT5y9HsS"
      },
      "outputs": [],
      "source": [
        "# Define dictionary to map activation names to functions\n",
        "activation_functions = {\n",
        "    'sigmoid': (sigmoid, sigmoid_gradient),\n",
        "    'tanh': (tanh, tanh_gradient),\n",
        "    'relu': (relu, relu_gradient)\n",
        "}\n",
        "\n",
        "# Define function to set activation functions\n",
        "def set_Activation_Functions(activation_name):\n",
        "    global activation_forward, activation_backward\n",
        "\n",
        "    if activation_name in activation_functions:\n",
        "        activation_forward, activation_backward = activation_functions[activation_name]\n",
        "        print(f\"Activation function set to {activation_name}\")\n",
        "    else:\n",
        "        print(\"Invalid activation name\")\n",
        "\n",
        "# Initialize activationForward and activationBackward to None\n",
        "activation_forward = None\n",
        "activation_backward = None"
      ]
    },
    {
      "cell_type": "code",
      "execution_count": null,
      "metadata": {
        "id": "9jues5kGCCYJ"
      },
      "outputs": [],
      "source": [
        "# Initializing loss as None\n",
        "loss = None\n",
        "\n",
        "# Function to set loss activation functions\n",
        "def set_loss_function(loss_function):\n",
        "    global loss\n",
        "    \n",
        "    if loss_function == 'crossEntropy':\n",
        "        loss = 'crossEntropy'\n",
        "    else:\n",
        "        loss= 'squaredError'"
      ]
    },
    {
      "cell_type": "code",
      "execution_count": null,
      "metadata": {
        "id": "xssQAAKCMcuD"
      },
      "outputs": [],
      "source": [
        "def evaluate_model_performance(network, config, x_train, targs, x_val, targs_val, x_test, targs_test, epoch, total_cost):\n",
        "    epoch += 1\n",
        "    total_cost_val = 0\n",
        "    for ins, target in zip(x_val, targs_val):\n",
        "        A = forward_propagate(network, ins)\n",
        "        total_cost_val += squared_error_loss(target, A)\n",
        "\n",
        "    accuracy_train = printAccuracy(network, x_train, targs)\n",
        "    accuracy_val = printAccuracy(network, x_val, targs_val)\n",
        "    accuracy_test = printAccuracy(network, x_test, targs_test)\n",
        "    total_cost /= len(x_train)\n",
        "    total_cost_val /= len(x_val)\n",
        "\n",
        "    wandb.log({\n",
        "        \"epoch\": epoch,\n",
        "        \"train_loss\": total_cost,\n",
        "        \"train_accuracy\": accuracy_train,\n",
        "        \"val_loss\": total_cost_val,\n",
        "        \"val_accuracy\": accuracy_val,\n",
        "        \"test_accuracy\": accuracy_test,\n",
        "        \"training_examples\": len(x_train),\n",
        "        \"validation_examples\": len(x_val),\n",
        "        \"test_examples\": len(x_test),\n",
        "        \"learning_rate\": config['learning_rate']\n",
        "    })"
      ]
    },
    {
      "cell_type": "code",
      "execution_count": null,
      "metadata": {
        "id": "ddd0hckxRSDB"
      },
      "outputs": [],
      "source": [
        "def printAccuracy(network, x_test, targs_test):\n",
        "    predicted = [np.argmax(forward_propagate(network, x), axis=0) for x in x_test]\n",
        "    actual = [np.argmax(y, axis=0) for y in targs_test]\n",
        "    correct = sum([1 for p, a in zip(predicted, actual) if p == a])\n",
        "    total = len(x_test)\n",
        "    accuracy = correct / total\n",
        "    print('Accuracy: ', accuracy)\n",
        "    return accuracy"
      ]
    },
    {
      "cell_type": "code",
      "execution_count": null,
      "metadata": {
        "id": "eQN1rWoiSTHB"
      },
      "outputs": [],
      "source": [
        "#to print plot of confusion matrix\n",
        "def predict_label(network, x_test, targs_test, y_test):\n",
        "    classPredicted = []\n",
        "    classActual = []\n",
        "\n",
        "    for n in range(len(x_test)):\n",
        "        ins = x_test[n]\n",
        "        A = forward_propagate(network, ins)\n",
        "        maxProbabilityPredicted = np.argmax(A, axis=0)[0]\n",
        "        classPredicted.append((maxProbabilityPredicted)%10)\n",
        "        classActual.append(np.argmax(targs_test[n], axis=0)[0])\n",
        "\n",
        "    # Log the confusion matrix in WandB\n",
        "    wandb.log({\"conf_mat\": wandb.plot.confusion_matrix(\n",
        "        y_true=classActual, preds=classPredicted, class_names=class_names)})\n",
        "\n",
        "    return classPredicted, classActual"
      ]
    },
    {
      "cell_type": "code",
      "execution_count": null,
      "metadata": {
        "id": "7PBn-wRgjl5W"
      },
      "outputs": [],
      "source": [
        "def reset_weights_and_gradients(network):\n",
        "    for layer in network:\n",
        "        weight_shape = layer['weights'].shape\n",
        "        layer['delta_weights'] = np.zeros(weight_shape)\n",
        "        bias_shape = layer['bias'].shape\n",
        "        layer['delta_bias'] = np.zeros(bias_shape)\n",
        "\n",
        "def initialize_velocity(network):\n",
        "    for layer in network:\n",
        "        weight_shape = layer['weights'].shape\n",
        "        layer['velocity_weights'] = np.zeros(weight_shape)\n",
        "        bias_shape = layer['bias'].shape\n",
        "        layer['velocity_bias'] = np.zeros(bias_shape)\n",
        "\n",
        "def update_velocity(network, gamma):\n",
        "    for layer in network:\n",
        "        layer['velocity_weights'] = gamma * layer['prev_velocity_weights']\n",
        "        layer['velocity_bias'] = gamma * layer['prev_velocity_bias']\n",
        "\n",
        "def initialize_previous_velocity(network):\n",
        "    for layer in network:\n",
        "        weight_shape = layer['weights'].shape\n",
        "        layer['prev_velocity_weights'] = np.zeros(weight_shape)\n",
        "        bias_shape = layer['bias'].shape\n",
        "        layer['prev_velocity_bias'] = np.zeros(bias_shape)"
      ]
    },
    {
      "cell_type": "code",
      "execution_count": null,
      "metadata": {
        "id": "-ZoZDOYKpMfn"
      },
      "outputs": [],
      "source": [
        "def forward_propagate(network, X):\n",
        "    \"\"\"\n",
        "    Perform forward propagation through a neural network.\n",
        "\n",
        "    Args:\n",
        "        network (list): A list of dictionaries representing each layer in the network.\n",
        "        X (numpy array): An input to the network.\n",
        "\n",
        "    Returns:\n",
        "        numpy array: The output of the network.\n",
        "    \"\"\"\n",
        "    # Make a copy of the input\n",
        "    x = np.copy(X)\n",
        "\n",
        "    # Forward propagate through all layers\n",
        "    for layer in network:\n",
        "        Z = np.dot(layer['weights'], x) + layer['bias']\n",
        "        layer.update({'prev_Z': Z, 'prev_A' : x})\n",
        "        x = activation_forward(Z)\n",
        "\n",
        "    # Return the output of the network\n",
        "    return softmax_function(Z)"
      ]
    },
    {
      "cell_type": "code",
      "execution_count": null,
      "metadata": {
        "id": "kN-tioHPph7j"
      },
      "outputs": [],
      "source": [
        "# Back propagation\n",
        "def back_propagation(network, actual, predicted):\n",
        "    \n",
        "    global loss\n",
        "    \n",
        "    if loss==\"crossEntropy\":\n",
        "        dZ = -(actual - predicted)\n",
        "    else:\n",
        "        # Calculate the label with highest probability\n",
        "        y_label = predicted[np.argmax(actual)]\n",
        "        \n",
        "        error = actual-predicted\n",
        "        # Calculate the derivative of the cost function\n",
        "        dZ = 2 * (y_label - 1) * y_label * error\n",
        "\n",
        "    # Backward pass through the network\n",
        "    for i in range(len(network) - 1, -1, -1):\n",
        "        # Calculate the number of examples in the batch\n",
        "        m = network[i]['prev_A'].shape[1]\n",
        "        # Calculate the gradients of the weights and biases\n",
        "        network[i]['delta_weights'] +=  1 / m * np.dot(dZ, network[i]['prev_A'].T)\n",
        "        network[i]['delta_bias'] +=  1 / m * np.sum(dZ, axis=1, keepdims=True)\n",
        "        # Calculate the derivative of the activation function\n",
        "        prev_dA = np.dot(network[i]['weights'].T, dZ)\n",
        "        if i != 0:\n",
        "            # Calculate the derivative of the input to the activation function\n",
        "            dZ = sigmoid_gradient(prev_dA, network[i-1]['prev_Z'])"
      ]
    },
    {
      "cell_type": "code",
      "execution_count": null,
      "metadata": {
        "id": "9GTxy7NJrHJv"
      },
      "outputs": [],
      "source": [
        "def update(network, learning_rate):\n",
        "    for layer in network:\n",
        "        layer['weights'] = layer['weights'] - learning_rate * layer['delta_weights']\n",
        "        layer['bias'] = layer['bias'] - learning_rate * layer['delta_bias']"
      ]
    },
    {
      "cell_type": "code",
      "execution_count": null,
      "metadata": {
        "id": "a98-bdd0rRfj"
      },
      "outputs": [],
      "source": [
        "#Optimiser function for stohastic gradient descent.\n",
        "\n",
        "def optimser_sgd(network, config, x_train, targs, x_val, targs_val, x_test, targs_test):\n",
        "    set_Activation_Functions(config.activation)\n",
        "    for epoch in range(config.number_of_epochs):\n",
        "        total_cost = 0\n",
        "        # Reset accumulated db and dW before each epoch\n",
        "        reset_weights_and_gradients(network)\n",
        "        for n in range(0, len(x_train), config.batch_size):\n",
        "            # Get batch of input and target values\n",
        "            ins = x_train[n:n+config.batch_size]\n",
        "            target = targs[n:n+config.batch_size]\n",
        "            batch_size = len(ins)\n",
        "            no_of_steps = 0\n",
        "            for i in range(batch_size):\n",
        "                # Perform forward propagation for each input value in the batch\n",
        "                A = forward_propagate(network, ins[i])\n",
        "                back_propagation(network, target[i], A)\n",
        "                no_of_steps += 1\n",
        "                # After a given batch, update the weights and bias in every layer\n",
        "                if no_of_steps % batch_size == 0:\n",
        "                    update(network, config.learning_rate / batch_size)\n",
        "                    reset_weights_and_gradients(network)\n",
        "                    no_of_steps = 0\n",
        "                # Compute total cost for the batch\n",
        "                total_cost += squared_error_loss(target[i], A)\n",
        "        print('Total loss for this epoch: ', total_cost)\n",
        "        if epoch == 4:\n",
        "            evaluate_model_performance(network, config, x_train, targs, x_val, targs_val, x_test, targs_test, epoch, total_cost)\n",
        "\n",
        "    evaluate_model_performance(network, config, x_train, targs, x_val, targs_val, x_test, targs_test, epoch, total_cost)\n",
        "      "
      ]
    },
    {
      "cell_type": "code",
      "execution_count": null,
      "metadata": {
        "id": "NjzMvZKDlAK3"
      },
      "outputs": [],
      "source": [
        "# Back propagation for mgd\n",
        "def back_propagation_mgd(network, actual, predicted):\n",
        "    global loss\n",
        "    \n",
        "    if loss==\"crossEntropy\":\n",
        "        dZ = -(actual - predicted)\n",
        "    else:\n",
        "        # Calculate the label with highest probability\n",
        "        y_label = predicted[np.argmax(actual)]\n",
        "        \n",
        "        error = actual-predicted\n",
        "        # Calculate the derivative of the cost function\n",
        "        dZ = 2 * (y_label - 1) * y_label * error\n",
        "\n",
        "    # Backward pass through the network\n",
        "    for i in range(len(network) - 1, -1, -1):\n",
        "        # Calculate the number of examples in the batch\n",
        "        m = network[i]['prev_A'].shape[1]\n",
        "        # Calculate the gradients of the weights and biases\n",
        "        network[i]['delta_weights'] +=  1 / m * np.dot(dZ, network[i]['prev_A'].T)\n",
        "        network[i]['delta_bias'] +=  1 / m * np.sum(dZ, axis=1, keepdims=True)\n",
        "        # Calculate the derivative of the activation function\n",
        "        prev_dA = np.dot(network[i]['weights'].T, dZ)\n",
        "        if i != 0:\n",
        "            # Calculate the derivative of the input to the activation function\n",
        "            dZ = sigmoid_gradient(prev_dA, network[i-1]['prev_Z'])"
      ]
    },
    {
      "cell_type": "code",
      "execution_count": null,
      "metadata": {
        "id": "nDruP7YmWMPH"
      },
      "outputs": [],
      "source": [
        "def update_mgd(network, learning_rate, gamma):\n",
        "    for layer in network:\n",
        "        velocity_weights = gamma * layer['prev_velocity_weights'] + learning_rate * layer['delta_weights']\n",
        "        velocity_bias = gamma * layer['prev_velocity_bias'] + learning_rate* layer['delta_bias']\n",
        "\n",
        "        layer['weights'] = layer['weights'] - velocity_weights\n",
        "        layer['bias'] = layer['bias'] - velocity_bias\n",
        "\n",
        "        layer['prev_velocity_weights'] = velocity_weights\n",
        "        layer['prev_velocity_bias'] = velocity_bias"
      ]
    },
    {
      "cell_type": "code",
      "execution_count": null,
      "metadata": {
        "id": "RkDX0R48WcKu"
      },
      "outputs": [],
      "source": [
        "#Optimiser function for stohastic gradient descent.\n",
        "\n",
        "def optimser_mgd(network, config, x_train, targs, x_val, targs_val, x_test, targs_test):\n",
        "    set_Activation_Functions(config.activation)\n",
        "    initialize_previous_velocity(network)\n",
        "    for epoch in range(config.number_of_epochs):\n",
        "        total_cost = 0\n",
        "        # Reset accumulated db and dW before each epoch\n",
        "        reset_weights_and_gradients(network)\n",
        "        for n in range(0, len(x_train), config.batch_size):\n",
        "            # Get batch of input and target values\n",
        "            ins = x_train[n:n+config.batch_size]\n",
        "            target = targs[n:n+config.batch_size]\n",
        "            batch_size = len(ins)\n",
        "            no_of_steps = 0\n",
        "            for i in range(batch_size):\n",
        "                # Perform forward propagation for each input value in the batch\n",
        "                A = forward_propagate(network, ins[i])\n",
        "                back_propagation_mgd(network, target[i], A)\n",
        "                no_of_steps += 1\n",
        "                # After a given batch, update the weights and bias in every layer\n",
        "                if no_of_steps % batch_size == 0:\n",
        "                    update_mgd(network, config.learning_rate / batch_size,gamma=0.9)\n",
        "                    reset_weights_and_gradients(network)\n",
        "                    no_of_steps = 0\n",
        "                # Compute total cost for the batch\n",
        "                total_cost += squared_error_loss(target[i], A)\n",
        "        print('Total cost for this epoch: ', total_cost)\n",
        "        if epoch == 4:\n",
        "            evaluate_model_performance(network, config, x_train, targs, x_val, targs_val, x_test, targs_test, epoch, total_cost)\n",
        "\n",
        "    evaluate_model_performance(network, config, x_train, targs, x_val, targs_val, x_test, targs_test, epoch, total_cost)\n",
        "            \n",
        "            \n",
        "        \n",
        "       "
      ]
    },
    {
      "cell_type": "code",
      "execution_count": null,
      "metadata": {
        "id": "7Yci00hAY9pv"
      },
      "outputs": [],
      "source": [
        "# Forward propagate for NAGD\n",
        "def forward_propagate_nagd(network, X):\n",
        "   \n",
        "    input_data = np.copy(X)\n",
        "    nagdx = np.copy(X)\n",
        "\n",
        "    # Applying activation_forward for all the previous layers\n",
        "    for layer in network[:-1]:\n",
        "        Z = np.dot(layer['weights'], input_data) + layer['bias']\n",
        "        nagdZ = np.dot(layer['weights'] - layer['velocity_weights'], nagdx) + layer['bias'] - layer['velocity_bias']\n",
        "        \n",
        "        layer['prev_Z'] = Z  # Preactivation values of current layer\n",
        "        layer['prev_A'] = input_data  # Activation values of previous layer\n",
        "\n",
        "        layer['prev_nagdZ'] = nagdZ  # Preactivation values for the current layer\n",
        "        layer['prev_nagdA'] = nagdx # Activation values for the previous layer\n",
        "\n",
        "        input_data = activation_forward(Z) \n",
        "        nagdx = activation_forward(nagdZ)\n",
        "\n",
        "    # softmax function applied in the final layer\n",
        "    layer = network[-1]\n",
        "    Z = np.dot(layer['weights'], input_data) + layer['bias']\n",
        "    nagdZ = np.dot(layer['weights'] - layer['velocity_weights'], nagdx) + layer['bias'] - layer['velocity_bias']\n",
        "    layer['prev_Z'] = Z\n",
        "    layer['prev_A'] = input_data\n",
        "    layer['prev_nagdZ'] = nagdZ\n",
        "    layer['prev_nagdA'] = nagdx\n",
        "    # x = softmax(Z)\n",
        "    nagdx = softmax_function(nagdZ)\n",
        "    return nagdx"
      ]
    },
    {
      "cell_type": "code",
      "execution_count": null,
      "metadata": {
        "id": "yPYe-WUraNsM"
      },
      "outputs": [],
      "source": [
        "       \n",
        "def back_propagation_nagd(network, actual, predicted):\n",
        "    global loss\n",
        "    \n",
        "    if loss==\"crossEntropy\":\n",
        "        dZ = -(actual - predicted)\n",
        "    else:\n",
        "        # Calculate the label with highest probability\n",
        "        y_label = predicted[np.argmax(actual)]\n",
        "        \n",
        "        error = actual-predicted\n",
        "        # Calculate the derivative of the cost function\n",
        "        dZ = 2 * (y_label - 1) * y_label * error\n",
        "\n",
        "    # Backward pass through the network\n",
        "    for i in range(len(network) - 1, -1, -1):\n",
        "        # Calculate the number of examples in the batch\n",
        "        m = network[i]['prev_A'].shape[1]\n",
        "        # Calculate the gradients of the weights and biases\n",
        "        network[i]['delta_weights'] +=  1 / m * np.dot(dZ, network[i]['prev_A'].T)\n",
        "        network[i]['delta_bias'] +=  1 / m * np.sum(dZ, axis=1, keepdims=True)\n",
        "        # Calculate the derivative of the activation function\n",
        "        prev_dA = np.dot(network[i]['weights'].T, dZ)\n",
        "        if i != 0:\n",
        "            # Calculate the derivative of the input to the activation function\n",
        "            dZ = sigmoid_gradient(prev_dA, network[i-1]['prev_Z'])"
      ]
    },
    {
      "cell_type": "code",
      "execution_count": null,
      "metadata": {
        "id": "60RgcIZwcUXI"
      },
      "outputs": [],
      "source": [
        "def update_nagd(network, learning_rate, gamma):\n",
        "    for layer in network:\n",
        "        # Calculate velocity of weights and biases\n",
        "        velocity_weights = gamma * layer['prev_velocity_weights'] - learning_rate * layer['delta_weights']\n",
        "        velocity_bias = gamma * layer['prev_velocity_bias'] - learning_rate * layer['delta_bias']\n",
        "\n",
        "        # Update weights and biases\n",
        "        layer['weights'] += velocity_weights\n",
        "        layer['bias'] += velocity_bias\n",
        "\n",
        "        # Update previous velocities\n",
        "        layer['prev_velocity_weights'] = velocity_weights\n",
        "        layer['prev_velocity_bias'] = velocity_bias"
      ]
    },
    {
      "cell_type": "code",
      "execution_count": null,
      "metadata": {
        "id": "QybXtbH0kXTE"
      },
      "outputs": [],
      "source": [
        "#Optimiser function for stohastic gradient descent.\n",
        "\n",
        "def optimser_nagd(network, config, x_train, targs, x_val, targs_val, x_test, targs_test):\n",
        "    set_Activation_Functions(config.activation)\n",
        "    initialize_previous_velocity(network)\n",
        "    for epoch in range(config.number_of_epochs):\n",
        "        total_cost = 0\n",
        "        # Reset accumulated db and dW before each epoch\n",
        "        reset_weights_and_gradients(network)\n",
        "        update_velocity(network, gamma=0.9)\n",
        "        for n in range(0, len(x_train), config.batch_size):\n",
        "            # Get batch of input and target values\n",
        "            ins = x_train[n:n+config.batch_size]\n",
        "            target = targs[n:n+config.batch_size]\n",
        "            batch_size = len(ins)\n",
        "            no_of_steps = 0\n",
        "            for i in range(batch_size):\n",
        "                # Perform forward propagation for each input value in the batch\n",
        "                A = forward_propagate_nagd(network, ins[i])\n",
        "                back_propagation_nagd(network, target[i], A)\n",
        "                no_of_steps += 1\n",
        "                # After a given batch, update the weights and bias in every layer\n",
        "                if no_of_steps % batch_size == 0:\n",
        "                    update_nagd(network, config.learning_rate / batch_size,gamma=0.9)\n",
        "                    reset_weights_and_gradients(network)\n",
        "                    no_of_steps = 0\n",
        "                # Compute total cost for the batch\n",
        "                total_cost += squared_error_loss(target[i], A)\n",
        "        print('Total cost for this epoch: ', total_cost)\n",
        "        if epoch == 4:\n",
        "            evaluate_model_performance(network, config, x_train, targs, x_val, targs_val, x_test, targs_test, epoch, total_cost)\n",
        "\n",
        "    evaluate_model_performance(network, config, x_train, targs, x_val, targs_val, x_test, targs_test, epoch, total_cost)\n",
        "            \n",
        "            "
      ]
    },
    {
      "cell_type": "code",
      "execution_count": null,
      "metadata": {
        "id": "8Up7lu-Ud6uF"
      },
      "outputs": [],
      "source": [
        "# Back propagation for rmsprop\n",
        "def back_propagation_rmsprop(network, actual, predicted):\n",
        "    global loss\n",
        "    \n",
        "    if loss==\"crossEntropy\":\n",
        "        dZ = -(actual - predicted)\n",
        "    else:\n",
        "        # Calculate the label with highest probability\n",
        "        y_label = predicted[np.argmax(actual)]\n",
        "        \n",
        "        error = actual-predicted\n",
        "        # Calculate the derivative of the cost function\n",
        "        dZ = 2 * (y_label - 1) * y_label * error\n",
        "\n",
        "    # Backward pass through the network\n",
        "    for i in range(len(network) - 1, -1, -1):\n",
        "        # Calculate the number of examples in the batch\n",
        "        m = network[i]['prev_A'].shape[1]\n",
        "        # Calculate the gradients of the weights and biases\n",
        "        network[i]['delta_weights'] +=  1 / m * np.dot(dZ, network[i]['prev_A'].T)\n",
        "        network[i]['delta_bias'] +=  1 / m * np.sum(dZ, axis=1, keepdims=True)\n",
        "        # Calculate the derivative of the activation function\n",
        "        prev_dA = np.dot(network[i]['weights'].T, dZ)\n",
        "        if i != 0:\n",
        "            # Calculate the derivative of the input to the activation function\n",
        "            dZ = sigmoid_gradient(prev_dA, network[i-1]['prev_Z'])"
      ]
    },
    {
      "cell_type": "code",
      "execution_count": null,
      "metadata": {
        "id": "K0XWLWWcd8DN"
      },
      "outputs": [],
      "source": [
        "#Update the weights and bias for the model.\n",
        "def update_rmpsprop(network, learning_rate, beta1, eps=1e-8):\n",
        "    for layer in network:\n",
        "      layer['velocity_weights'] = beta1 * layer['velocity_weights'] + (1 - beta1) * layer['delta_weights']**2\n",
        "      layer['velocity_bias'] = beta1 * layer['velocity_bias'] + (1 - beta1) * layer['delta_bias']**2\n",
        "\n",
        "      layer['weights'] = layer['weights'] - (learning_rate / np.sqrt(layer['velocity_weights'] + eps)) * layer['delta_weights']\n",
        "      layer['bias'] = layer['bias'] - (learning_rate / np.sqrt(layer['velocity_bias'] + eps)) * layer['delta_bias']"
      ]
    },
    {
      "cell_type": "code",
      "execution_count": null,
      "metadata": {
        "id": "j_afr8bij3T3"
      },
      "outputs": [],
      "source": [
        "#Optimiser function for rmsprop gradient descent.\n",
        "def optimser_rmsprop(network, config, x_train, targs, x_val, targs_val, x_test, targs_test):\n",
        "    set_Activation_Functions(config.activation)\n",
        "    initialize_velocity(network)\n",
        "    eps, beta1 = 1e-8, 0.9\n",
        "    for epoch in range(config.number_of_epochs):\n",
        "        total_cost = 0\n",
        "        # Reset accumulated db and dW before each epoch\n",
        "        reset_weights_and_gradients(network)\n",
        "        for n in range(0, len(x_train), config.batch_size):\n",
        "            # Get batch of input and target values\n",
        "            ins = x_train[n:n+config.batch_size]\n",
        "            target = targs[n:n+config.batch_size]\n",
        "            batch_size = len(ins)\n",
        "            no_of_steps = 0\n",
        "            for i in range(batch_size):\n",
        "                # Perform forward propagation for each input value in the batch\n",
        "                A = forward_propagate(network, ins[i])\n",
        "                back_propagation_rmsprop(network, target[i], A)\n",
        "                no_of_steps += 1\n",
        "                # After a given batch, update the weights and bias in every layer\n",
        "                if no_of_steps % batch_size == 0:\n",
        "                    update_rmpsprop(network, config.learning_rate / batch_size,beta1=beta1, eps=eps)\n",
        "                    reset_weights_and_gradients(network)\n",
        "                    no_of_steps = 0\n",
        "                # Compute total cost for the batch\n",
        "                total_cost += squared_error_loss(target[i], A)\n",
        "        print('Total cost for this epoch: ', total_cost)\n",
        "        if epoch == 4:\n",
        "            evaluate_model_performance(network, config, x_train, targs, x_val, targs_val, x_test, targs_test, epoch, total_cost)\n",
        "\n",
        "    evaluate_model_performance(network, config, x_train, targs, x_val, targs_val, x_test, targs_test, epoch, total_cost)\n",
        "            \n",
        "            "
      ]
    },
    {
      "cell_type": "code",
      "execution_count": null,
      "metadata": {
        "id": "CuHG-qZ1QLIf"
      },
      "outputs": [],
      "source": [
        "# Back propagation for mgd\n",
        "def back_propagation_adam(network, actual, predicted):\n",
        "    global loss\n",
        "    \n",
        "    if loss==\"crossEntropy\":\n",
        "        dZ = -(actual - predicted)\n",
        "    else:\n",
        "        # Calculate the label with highest probability\n",
        "        y_label = predicted[np.argmax(actual)]\n",
        "        \n",
        "        error = actual-predicted\n",
        "        # Calculate the derivative of the cost function\n",
        "        dZ = 2 * (y_label - 1) * y_label * error\n",
        "\n",
        "    # Backward pass through the network\n",
        "    for i in range(len(network) - 1, -1, -1):\n",
        "        # Calculate the number of examples in the batch\n",
        "        m = network[i]['prev_A'].shape[1]\n",
        "        # Calculate the gradients of the weights and biases\n",
        "        network[i]['delta_weights'] +=  1 / m * np.dot(dZ, network[i]['prev_A'].T)\n",
        "        network[i]['delta_bias'] +=  1 / m * np.sum(dZ, axis=1, keepdims=True)\n",
        "        # Calculate the derivative of the activation function\n",
        "        prev_dA = np.dot(network[i]['weights'].T, dZ)\n",
        "        if i != 0:\n",
        "            # Calculate the derivative of the input to the activation function\n",
        "            dZ = sigmoid_gradient(prev_dA, network[i-1]['prev_Z'])"
      ]
    },
    {
      "cell_type": "code",
      "source": [
        "def update_adam(network, epoch, learning_rate, beta1, beta2, optimizer):\n",
        "    for layer in network:\n",
        "        delta_weights = layer['delta_weights']\n",
        "        delta_bias = layer['delta_bias']\n",
        "        velocity_weights = layer['velocity_wweights']\n",
        "        velocity_bias = layer['velocity_bias']\n",
        "        m_weights = layer['m_w']\n",
        "        m_bias = layer['m_b']\n",
        "        \n",
        "        m_weights = beta1 * m_weights + (1 - beta1) * delta_weights\n",
        "        m_bias = beta1 * m_bias + (1 - beta1) * delta_bias\n",
        "        \n",
        "        velocity_weights = beta2 * velocity_weights + (1 - beta2) * np.square(delta_weights)\n",
        "        velocity_bias = beta2 * velocity_bias + (1 - beta2) * np.square(delta_bias)\n",
        "        \n",
        "        layer['m_w'] = m_weights\n",
        "        layer['m_b'] = m_bias\n",
        "        layer['v_w'] = velocity_weights\n",
        "        layer['v_b'] = velocity_bias\n",
        "        \n",
        "        m_w_hat = m_weights / (1 - beta1 ** (epoch + 1))\n",
        "        m_b_hat = m_bias / (1 - beta1 ** (epoch + 1))\n",
        "        v_w_hat = velocity_weights / (1 - beta2 ** (epoch + 1))\n",
        "        v_b_hat = velocity_bias / (1 - beta2 ** (epoch + 1))\n",
        "        \n",
        "        layer['m_w_hat'] = m_w_hat\n",
        "        layer['m_b_hat'] = m_b_hat\n",
        "        layer['v_w_hat'] = v_w_hat\n",
        "        layer['v_b_hat'] = v_b_hat\n",
        "        \n",
        "        lr = learning_rate / np.sqrt(v_w_hat + learning_rate)\n",
        "        layer['weights'] -= lr * m_w_hat\n",
        "        layer['bias'] -= lr * m_b_hat"
      ],
      "metadata": {
        "id": "A-jzq3GAAMCI"
      },
      "execution_count": null,
      "outputs": []
    },
    {
      "cell_type": "code",
      "execution_count": null,
      "metadata": {
        "id": "k1eRwqT73mnc"
      },
      "outputs": [],
      "source": [
        "#Optimiser function for adam gradient descent.\n",
        "\n",
        "def optimser_adam(network, config, x_train, targs, x_val, targs_val, x_test, targs_test):\n",
        "    set_Activation_Functions(config.activation)\n",
        "    initialize_previous_velocity(network)\n",
        "    for epoch in range(config.number_of_epochs):\n",
        "        beta1,beta2=0.9,0.999\n",
        "        total_cost = 0\n",
        "        # Reset accumulated db and dW before each epoch\n",
        "        reset_weights_and_gradients(network)\n",
        "        for n in range(0, len(x_train), config.batch_size):\n",
        "            # Get batch of input and target values\n",
        "            ins = x_train[n:n+config.batch_size]\n",
        "            target = targs[n:n+config.batch_size]\n",
        "            batch_size = len(ins)\n",
        "            no_of_steps = 0\n",
        "            for i in range(batch_size):\n",
        "                # Perform forward propagation for each input value in the batch\n",
        "                A = forward_propagate(network, ins[i])\n",
        "                back_propagation_adam(network, target[i], A)\n",
        "                no_of_steps += 1\n",
        "                # After a given batch, update the weights and bias in every layer\n",
        "                if no_of_steps % batch_size == 0:\n",
        "                    update_adam(network,epoch,config.learning_rate / batch_size, beta1, beta2,config.optimizer)\n",
        "                    reset_weights_and_gradients(network)\n",
        "                    no_of_steps = 0\n",
        "                # Compute total cost for the batch\n",
        "                total_cost += squared_error_loss(target[i], A)\n",
        "        print('Total cost for this epoch: ', total_cost)\n",
        "        if epoch==4 or \"loss\" in config.keys():\n",
        "            evaluate_model_performance(network, config, x_train, targs, x_val, targs_val, x_test, targs_test, epoch, total_cost)\n",
        "\n",
        "    evaluate_model_performance(network, config, x_train, targs, x_val, targs_val, x_test, targs_test, epoch, total_cost) \n",
        "            "
      ]
    },
    {
      "cell_type": "code",
      "source": [
        "sweep_config = dict(\n",
        "    method='bayes',\n",
        "    metric=dict(\n",
        "        name='accuracy',\n",
        "        goal='maximize'\n",
        "    ),\n",
        "    parameters=dict(\n",
        "        neurons_hidden_layer=dict(values=[32, 64, 128]),\n",
        "        number_of_epochs=dict(values=[5, 10]),\n",
        "        activation=dict(values=['sigmoid', 'relu', 'tanh']),\n",
        "        no_of_hidden_layer=dict(values=[3, 4, 5]),\n",
        "        batch_size=dict(values=[16, 32, 64]),\n",
        "        optimizer=dict(values=['sgd']),\n",
        "        initialization=dict(values=['random', 'xavier']),\n",
        "        weight_decay=dict(values=[0, 0.0005, 0.5]),\n",
        "        learning_rate=dict(values=[0.1, 0.01, 0.001])\n",
        "    )\n",
        ")\n",
        "\n",
        "wandb.init(project='DL_Assignment1')\n",
        "sweep_id = wandb.sweep(sweep_config)"
      ],
      "metadata": {
        "id": "hvWXyRuydBb7"
      },
      "execution_count": null,
      "outputs": []
    },
    {
      "cell_type": "code",
      "source": [
        "def train(config=None):\n",
        "\n",
        "    # Initialize a new wandb run\n",
        "    with wandb.init(config=config) as run:\n",
        "\n",
        "        # If called by wandb.agent, as below,\n",
        "        # this config will be set by Sweep Controller\n",
        "        config = wandb.config\n",
        "\n",
        "        # Set loss function\n",
        "        set_loss_function(config.loss) if \"loss\" in config.keys() else set_loss_function('cross_entropy')\n",
        "        \n",
        "        # Set sweep name\n",
        "        sweep_name = '{}'.format(config.loss) if \"loss\" in config.keys() else 'hl_{}bs{}ac{}_{}'.format(config.no_of_hidden_layer, config.batch_size, config.activation, config.optimizer)\n",
        "\n",
        "        print(sweep_name)\n",
        "        run.name = sweep_name\n",
        "        \n",
        "        # Initialize network\n",
        "        np.random.seed(0)\n",
        "        no_of_inputs=784\n",
        "        no_of_neurons_in_hidden_layer=config.neurons_hidden_layer\n",
        "        no_of_classes=10\n",
        "        no_of_hidden_layers=config.no_of_hidden_layer\n",
        "        network = initialize_network(no_of_inputs, no_of_neurons_in_hidden_layer, no_of_classes, no_of_hidden_layers, config )\n",
        "        \n",
        "        # Call optimizer function based on config\n",
        "        optimizer_dict = {\n",
        "            'sgd': optimser_sgd,\n",
        "            'momentum': optimser_mgd,\n",
        "            'nesterov': optimser_nagd,\n",
        "            'rmsprop': optimser_rmsprop,\n",
        "            'adam': optimser_adam\n",
        "        }\n",
        "        optimizer_func = optimizer_dict.get(config.optimizer, optimser_adam)\n",
        "        optimizer_func(network, config, x_train, targs, x_val, targs_val, x_test, targs_test)\n",
        "\n",
        "        # Call predict_label function if loss is crossEntropy\n",
        "        if 'loss' in config.keys() and config.loss=='crossEntropy':\n",
        "            print(\"came here\")\n",
        "            predict_label(network,x_test,targs_test,y_test)"
      ],
      "metadata": {
        "id": "4Hi3aqlEd6pr"
      },
      "execution_count": null,
      "outputs": []
    },
    {
      "cell_type": "code",
      "source": [
        "#this tkes sweep id and run sweeps on different combinations of hyperparameters\n",
        "\n",
        "wandb.agent(sweep_id, train, count=50)\n"
      ],
      "metadata": {
        "id": "26z-Vzrs7YvY"
      },
      "execution_count": null,
      "outputs": []
    },
    {
      "cell_type": "code",
      "source": [
        "#Dictionary for best hyperparameters.\n",
        "\n",
        "best_config = dict(\n",
        "    name=\"MNIST_Sweep\",\n",
        "    method=\"random\",\n",
        "    parameters=dict(\n",
        "        neurons_hidden_layer=dict(values=[128]),\n",
        "        number_of_epochs=dict(values=[5]),\n",
        "        activation=dict(values=[\"sigmoid\"]),\n",
        "        no_of_hidden_layer=dict(values=[3]),\n",
        "        batch_size=dict(values=[16]),\n",
        "        optimizer=dict(values=[\"adam\"]),\n",
        "        initialization=dict(values=[\"random\"]),\n",
        "        weight_decay=dict(values=[0.0005]),\n",
        "        loss=dict(values=[\"crossEntropy\"]),\n",
        "        learning_rate=dict(values=[0.01])\n",
        "    )\n",
        ")\n",
        "\n",
        "wandb.init(project=\"DL_Assignment1\")\n",
        "sweep_id = wandb.sweep(best_config)"
      ],
      "metadata": {
        "id": "J6f9ffHWpS2N"
      },
      "execution_count": null,
      "outputs": []
    },
    {
      "cell_type": "code",
      "source": [
        "#sweep run for best combination of hyperparameter from the above run\n",
        "\n",
        "sweep_id = wandb.sweep(best_config,project=\"DL_Assignment1\")\n",
        "wandb.agent(sweep_id, train, count=1)"
      ],
      "metadata": {
        "id": "3fwdLTwAYEjC"
      },
      "execution_count": null,
      "outputs": []
    }
  ],
  "metadata": {
    "colab": {
      "provenance": [],
      "authorship_tag": "ABX9TyNzXDL7zjVyGBJdfPQNdQ/a",
      "include_colab_link": true
    },
    "kernelspec": {
      "display_name": "Python 3",
      "name": "python3"
    },
    "language_info": {
      "name": "python"
    }
  },
  "nbformat": 4,
  "nbformat_minor": 0
}